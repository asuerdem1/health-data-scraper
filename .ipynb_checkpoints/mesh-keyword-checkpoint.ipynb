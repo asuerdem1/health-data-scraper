{
 "cells": [
  {
   "cell_type": "markdown",
   "metadata": {},
   "source": [
    "[API Explanation](https://id.nlm.nih.gov/mesh/swagger/ui)"
   ]
  },
  {
   "cell_type": "code",
   "execution_count": 17,
   "metadata": {},
   "outputs": [],
   "source": [
    "# importing the requests library\n",
    "import requests"
   ]
  },
  {
   "cell_type": "code",
   "execution_count": 28,
   "metadata": {},
   "outputs": [],
   "source": [
    "# api-endpoint\n",
    "URL = \"https://id.nlm.nih.gov/mesh/lookup/term\""
   ]
  },
  {
   "cell_type": "code",
   "execution_count": 29,
   "metadata": {},
   "outputs": [],
   "source": [
    "# location given here\n",
    "match = \"contains\"\n",
    "label = \"gas\"\n",
    "limit = 10\n",
    "  \n",
    "# defining a params dict for the parameters to be sent to the API\n",
    "PARAMS = {'match': match, 'label': label, 'limit': limit}"
   ]
  },
  {
   "cell_type": "code",
   "execution_count": 30,
   "metadata": {},
   "outputs": [],
   "source": [
    "# sending get request and saving the response as response object\n",
    "r = requests.get(url = URL, params = PARAMS)"
   ]
  },
  {
   "cell_type": "code",
   "execution_count": 31,
   "metadata": {},
   "outputs": [
    {
     "data": {
      "text/plain": [
       "[{'resource': 'http://id.nlm.nih.gov/mesh/T005185',\n",
       "  'label': 'Analysis, Blood Gas'},\n",
       " {'resource': 'http://id.nlm.nih.gov/mesh/T047225',\n",
       "  'label': 'Anesthetic Gas Scavengers'},\n",
       " {'resource': 'http://id.nlm.nih.gov/mesh/T005186',\n",
       "  'label': 'Blood Gas Analysis'},\n",
       " {'resource': 'http://id.nlm.nih.gov/mesh/T005188',\n",
       "  'label': 'Blood Gas Monitoring, Transcutaneous'},\n",
       " {'resource': 'http://id.nlm.nih.gov/mesh/T156331', 'label': 'C3F8-gas'},\n",
       " {'resource': 'http://id.nlm.nih.gov/mesh/T029009', 'label': 'CS Tear Gas'},\n",
       " {'resource': 'http://id.nlm.nih.gov/mesh/T000935792',\n",
       "  'label': 'Chlorine Gas'},\n",
       " {'resource': 'http://id.nlm.nih.gov/mesh/T008280',\n",
       "  'label': 'Chromatography, Gas'},\n",
       " {'resource': 'http://id.nlm.nih.gov/mesh/T008281',\n",
       "  'label': 'Chromatography, Gas-Liquid'},\n",
       " {'resource': 'http://id.nlm.nih.gov/mesh/T024994',\n",
       "  'label': 'Chromatography, Gas-Liquid-Mass Spectrometry'}]"
      ]
     },
     "execution_count": 31,
     "metadata": {},
     "output_type": "execute_result"
    }
   ],
   "source": [
    "# extracting data in json format\n",
    "data = r.json()\n",
    "data"
   ]
  },
  {
   "cell_type": "code",
   "execution_count": null,
   "metadata": {},
   "outputs": [],
   "source": []
  }
 ],
 "metadata": {
  "kernelspec": {
   "display_name": "Python 3",
   "language": "python",
   "name": "python3"
  },
  "language_info": {
   "codemirror_mode": {
    "name": "ipython",
    "version": 3
   },
   "file_extension": ".py",
   "mimetype": "text/x-python",
   "name": "python",
   "nbconvert_exporter": "python",
   "pygments_lexer": "ipython3",
   "version": "3.8.5"
  }
 },
 "nbformat": 4,
 "nbformat_minor": 4
}
